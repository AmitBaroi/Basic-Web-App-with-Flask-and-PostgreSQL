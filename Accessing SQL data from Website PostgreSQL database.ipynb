{
 "cells": [
  {
   "cell_type": "code",
   "execution_count": 1,
   "metadata": {},
   "outputs": [],
   "source": [
    "import psycopg2 as pg"
   ]
  },
  {
   "cell_type": "code",
   "execution_count": 2,
   "metadata": {},
   "outputs": [],
   "source": [
    "conn = pg.connect(database='ddng0euhnqh7lm',\n",
    "                  host='ec2-107-20-234-175.compute-1.amazonaws.com',\n",
    "                  user='chwrnxjxpwcnlz',\n",
    "                  password='5c0dbe1b5eeec662dfe5fb8ff447f8e2312445235eecea1135e594e7bd2670f5')"
   ]
  },
  {
   "cell_type": "code",
   "execution_count": 3,
   "metadata": {},
   "outputs": [],
   "source": [
    "import pandas as pd"
   ]
  },
  {
   "cell_type": "code",
   "execution_count": 4,
   "metadata": {
    "scrolled": true
   },
   "outputs": [
    {
     "data": {
      "text/html": [
       "<div>\n",
       "<style scoped>\n",
       "    .dataframe tbody tr th:only-of-type {\n",
       "        vertical-align: middle;\n",
       "    }\n",
       "\n",
       "    .dataframe tbody tr th {\n",
       "        vertical-align: top;\n",
       "    }\n",
       "\n",
       "    .dataframe thead th {\n",
       "        text-align: right;\n",
       "    }\n",
       "</style>\n",
       "<table border=\"1\" class=\"dataframe\">\n",
       "  <thead>\n",
       "    <tr style=\"text-align: right;\">\n",
       "      <th></th>\n",
       "      <th>id</th>\n",
       "      <th>customer</th>\n",
       "      <th>dealer</th>\n",
       "      <th>rating</th>\n",
       "      <th>comments</th>\n",
       "    </tr>\n",
       "  </thead>\n",
       "  <tbody>\n",
       "    <tr>\n",
       "      <th>0</th>\n",
       "      <td>1</td>\n",
       "      <td>Bob Dynal</td>\n",
       "      <td>David Thunder</td>\n",
       "      <td>9</td>\n",
       "      <td>Coz um Mr. Dylan the king! And um as free as a...</td>\n",
       "    </tr>\n",
       "    <tr>\n",
       "      <th>1</th>\n",
       "      <td>2</td>\n",
       "      <td>Strvar4</td>\n",
       "      <td>Sally Smith</td>\n",
       "      <td>6</td>\n",
       "      <td>Human unequipped to do this job.</td>\n",
       "    </tr>\n",
       "    <tr>\n",
       "      <th>2</th>\n",
       "      <td>3</td>\n",
       "      <td>Nidhi potel</td>\n",
       "      <td>Sally Smith</td>\n",
       "      <td>6</td>\n",
       "      <td>Delivery late</td>\n",
       "    </tr>\n",
       "    <tr>\n",
       "      <th>3</th>\n",
       "      <td>4</td>\n",
       "      <td>Tony Stark</td>\n",
       "      <td>John Doe</td>\n",
       "      <td>7</td>\n",
       "      <td>I can make this at home!</td>\n",
       "    </tr>\n",
       "    <tr>\n",
       "      <th>4</th>\n",
       "      <td>5</td>\n",
       "      <td>Molly Mandez</td>\n",
       "      <td>John Doe</td>\n",
       "      <td>9</td>\n",
       "      <td>John Doe good stuff</td>\n",
       "    </tr>\n",
       "    <tr>\n",
       "      <th>5</th>\n",
       "      <td>6</td>\n",
       "      <td>Poneeer Potel</td>\n",
       "      <td>David Thunder</td>\n",
       "      <td>7</td>\n",
       "      <td></td>\n",
       "    </tr>\n",
       "    <tr>\n",
       "      <th>6</th>\n",
       "      <td>7</td>\n",
       "      <td>Bolda Lochon</td>\n",
       "      <td>Bobby McGee</td>\n",
       "      <td>4</td>\n",
       "      <td>Hablu goblu</td>\n",
       "    </tr>\n",
       "    <tr>\n",
       "      <th>7</th>\n",
       "      <td>8</td>\n",
       "      <td>Normal Public</td>\n",
       "      <td>Cats</td>\n",
       "      <td>5</td>\n",
       "      <td>Lame arse website. Noob developer.</td>\n",
       "    </tr>\n",
       "    <tr>\n",
       "      <th>8</th>\n",
       "      <td>9</td>\n",
       "      <td>Payel molen</td>\n",
       "      <td>Cats</td>\n",
       "      <td>7</td>\n",
       "      <td>Normal public dorkar!</td>\n",
       "    </tr>\n",
       "  </tbody>\n",
       "</table>\n",
       "</div>"
      ],
      "text/plain": [
       "   id       customer         dealer  rating  \\\n",
       "0   1      Bob Dynal  David Thunder       9   \n",
       "1   2        Strvar4    Sally Smith       6   \n",
       "2   3    Nidhi potel    Sally Smith       6   \n",
       "3   4     Tony Stark       John Doe       7   \n",
       "4   5   Molly Mandez       John Doe       9   \n",
       "5   6  Poneeer Potel  David Thunder       7   \n",
       "6   7   Bolda Lochon    Bobby McGee       4   \n",
       "7   8  Normal Public           Cats       5   \n",
       "8   9    Payel molen           Cats       7   \n",
       "\n",
       "                                            comments  \n",
       "0  Coz um Mr. Dylan the king! And um as free as a...  \n",
       "1                   Human unequipped to do this job.  \n",
       "2                                      Delivery late  \n",
       "3                           I can make this at home!  \n",
       "4                                John Doe good stuff  \n",
       "5                                                     \n",
       "6                                        Hablu goblu  \n",
       "7                 Lame arse website. Noob developer.  \n",
       "8                              Normal public dorkar!  "
      ]
     },
     "execution_count": 4,
     "metadata": {},
     "output_type": "execute_result"
    }
   ],
   "source": [
    "df = pd.read_sql_query(r\"SELECT * FROM feedback;\", conn)\n",
    "df"
   ]
  },
  {
   "cell_type": "code",
   "execution_count": 5,
   "metadata": {},
   "outputs": [],
   "source": [
    "conn.close()"
   ]
  }
 ],
 "metadata": {
  "kernelspec": {
   "display_name": "Python 3.6 (tf_env)",
   "language": "python",
   "name": "tf_env"
  },
  "language_info": {
   "codemirror_mode": {
    "name": "ipython",
    "version": 3
   },
   "file_extension": ".py",
   "mimetype": "text/x-python",
   "name": "python",
   "nbconvert_exporter": "python",
   "pygments_lexer": "ipython3",
   "version": "3.6.9"
  }
 },
 "nbformat": 4,
 "nbformat_minor": 2
}
